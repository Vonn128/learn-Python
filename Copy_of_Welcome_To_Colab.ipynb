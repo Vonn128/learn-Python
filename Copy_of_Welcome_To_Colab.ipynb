{
  "cells": [
    {
      "cell_type": "markdown",
      "metadata": {
        "id": "view-in-github",
        "colab_type": "text"
      },
      "source": [
        "<a href=\"https://colab.research.google.com/github/Vonn128/learn-Python/blob/main/Copy_of_Welcome_To_Colab.ipynb\" target=\"_parent\"><img src=\"https://colab.research.google.com/assets/colab-badge.svg\" alt=\"Open In Colab\"/></a>"
      ]
    },
    {
      "cell_type": "code",
      "source": [
        "my_dict = {'first': 'SQL', 'second' : 'python'}\n",
        "print (my_dict)\n",
        "my_dict ['second'] = 'html'\n",
        "print (my_dict)\n",
        "my_dict ['third') = 'java'\n",
        "print (my_dict)"
      ],
      "metadata": {
        "colab": {
          "base_uri": "https://localhost:8080/"
        },
        "id": "fQPo9qJ-myPr",
        "outputId": "b6611f09-f8f3-4032-9bec-028aec6b3c3b"
      },
      "execution_count": null,
      "outputs": [
        {
          "output_type": "stream",
          "name": "stdout",
          "text": [
            "{'first': 'SQL', 'second': 'python'}\n",
            "{'first': 'SQL', 'second': 'html'}\n",
            "{'first': 'SQL', 'second': 'html', 'third': 'java'}\n"
          ]
        }
      ]
    },
    {
      "cell_type": "code",
      "source": [
        "my_set = {1,2,3,4,5,5,5,5,6,6}\n",
        "print (my_set)\n",
        "my_set.add (7)\n",
        "print (my_set)"
      ],
      "metadata": {
        "colab": {
          "base_uri": "https://localhost:8080/"
        },
        "id": "o8ExDxu7pOm4",
        "outputId": "e7fbc9fb-81ae-4ec6-9d5c-6ee74330da0c"
      },
      "execution_count": null,
      "outputs": [
        {
          "output_type": "stream",
          "name": "stdout",
          "text": [
            "{1, 2, 3, 4, 5, 6}\n",
            "{1, 2, 3, 4, 5, 6, 7}\n"
          ]
        }
      ]
    },
    {
      "cell_type": "code",
      "source": [
        "# if statement\n",
        "number = -1\n",
        "if number > 0:\n",
        "    print('positive')\n",
        "else:\n",
        "    print('negative')"
      ],
      "metadata": {
        "colab": {
          "base_uri": "https://localhost:8080/"
        },
        "id": "01M83PG3tjSc",
        "outputId": "b584770f-1208-47d3-e262-b09ad8d6066b"
      },
      "execution_count": null,
      "outputs": [
        {
          "output_type": "stream",
          "name": "stdout",
          "text": [
            "negative\n"
          ]
        }
      ]
    },
    {
      "cell_type": "code",
      "source": [
        "# if elif else statement\n",
        "num = 0\n",
        "if num > 0:\n",
        "    print('positive')\n",
        "elif num == 0:\n",
        "    print('zero')\n",
        "else:\n",
        "    print('negative')"
      ],
      "metadata": {
        "colab": {
          "base_uri": "https://localhost:8080/"
        },
        "id": "vZlu-x9d1U6B",
        "outputId": "af20d191-42f7-43d4-8107-9501ba388a9e"
      },
      "execution_count": null,
      "outputs": [
        {
          "output_type": "stream",
          "name": "stdout",
          "text": [
            "zero\n"
          ]
        }
      ]
    },
    {
      "cell_type": "code",
      "source": [
        "#if nested statement\n",
        "num = 12\n",
        "if num >= 0:\n",
        "    if num == 0:\n",
        "        print('zero')\n",
        "    else:\n",
        "        print('positive number')\n",
        "else:\n",
        "    print('negative number')"
      ],
      "metadata": {
        "colab": {
          "base_uri": "https://localhost:8080/"
        },
        "id": "ZES7_3xn2L6Q",
        "outputId": "ce51305f-10e6-420e-b3d8-5a52ee6a9864"
      },
      "execution_count": null,
      "outputs": [
        {
          "output_type": "stream",
          "name": "stdout",
          "text": [
            "positive number\n"
          ]
        }
      ]
    },
    {
      "cell_type": "code",
      "source": [
        "#while loop\n",
        "a = 1\n",
        "odd_numb = []\n",
        "while a:\n",
        "    if a % 2 != 0:\n",
        "        odd_numb.append(a)\n",
        "    if a > 50:\n",
        "        break\n",
        "    a += 3\n",
        "print(odd_numb)"
      ],
      "metadata": {
        "colab": {
          "base_uri": "https://localhost:8080/"
        },
        "id": "I6KGTN4g8_yh",
        "outputId": "feb10c4c-df37-4c3c-e7af-440fcbaa5785"
      },
      "execution_count": null,
      "outputs": [
        {
          "output_type": "stream",
          "name": "stdout",
          "text": [
            "[1, 7, 13, 19, 25, 31, 37, 43, 49]\n"
          ]
        }
      ]
    },
    {
      "cell_type": "code",
      "source": [
        "#for loop\n",
        "list = [1,2,3,4,5,6,7]\n",
        "for num in list:\n",
        "    print(num)"
      ],
      "metadata": {
        "colab": {
          "base_uri": "https://localhost:8080/"
        },
        "id": "A5IURpCp_Pc6",
        "outputId": "ca2d43e8-3263-4861-aa89-fb827927f48f"
      },
      "execution_count": null,
      "outputs": [
        {
          "output_type": "stream",
          "name": "stdout",
          "text": [
            "1\n",
            "2\n",
            "3\n",
            "4\n",
            "5\n",
            "6\n",
            "7\n"
          ]
        }
      ]
    },
    {
      "cell_type": "code",
      "source": [
        "def Greet(name):\n",
        "    \"\"\"\n",
        "    fungsi ini menyapa nama\n",
        "    orang yang masuk sebagai\n",
        "    sebuah parameter\n",
        "    \"\"\"\n",
        "    print(\"Hello,\" + name + \".Good Morning!\")"
      ],
      "metadata": {
        "id": "cXkHyK3kQmH8"
      },
      "execution_count": null,
      "outputs": []
    },
    {
      "cell_type": "code",
      "source": [
        "print(Greet.__doc__)"
      ],
      "metadata": {
        "id": "KsXTASGVREs3",
        "outputId": "00224b5a-0bcc-4c1c-f6d3-c6c25ffcf4c1",
        "colab": {
          "base_uri": "https://localhost:8080/"
        }
      },
      "execution_count": null,
      "outputs": [
        {
          "output_type": "stream",
          "name": "stdout",
          "text": [
            "\n",
            "    fungsi ini menyapa nama\n",
            "    orang yang masuk sebagai\n",
            "    sebuah parameter\n",
            "    \n"
          ]
        }
      ]
    },
    {
      "cell_type": "code",
      "source": [
        "Greet('Ivon')"
      ],
      "metadata": {
        "id": "10CbArcVRXaL",
        "outputId": "77a5112f-38e4-4549-e5fe-524fa8760b7f",
        "colab": {
          "base_uri": "https://localhost:8080/"
        }
      },
      "execution_count": null,
      "outputs": [
        {
          "output_type": "stream",
          "name": "stdout",
          "text": [
            "Hello,Ivon.Good Morning!\n"
          ]
        }
      ]
    },
    {
      "cell_type": "code",
      "source": [
        "def Greet(name):\n",
        "    print(\"Hello,\" + name + \".Good Morning!\")"
      ],
      "metadata": {
        "id": "Uo5DV83sTJIz"
      },
      "execution_count": null,
      "outputs": []
    },
    {
      "cell_type": "code",
      "source": [
        "print(Greet.__doc__)"
      ],
      "metadata": {
        "id": "FZkoNaG1TRTy",
        "outputId": "7811b130-7246-47be-8e9c-9a92b0f433a2",
        "colab": {
          "base_uri": "https://localhost:8080/"
        }
      },
      "execution_count": null,
      "outputs": [
        {
          "output_type": "stream",
          "name": "stdout",
          "text": [
            "None\n"
          ]
        }
      ]
    },
    {
      "cell_type": "code",
      "source": [
        "Greet('Ivon')"
      ],
      "metadata": {
        "id": "vRC8jRgrTVj9",
        "outputId": "7f458f77-ec23-48d4-8f51-ab1acf343244",
        "colab": {
          "base_uri": "https://localhost:8080/"
        }
      },
      "execution_count": null,
      "outputs": [
        {
          "output_type": "stream",
          "name": "stdout",
          "text": [
            "Hello,Ivon.Good Morning!\n"
          ]
        }
      ]
    }
  ],
  "metadata": {
    "colab": {
      "toc_visible": true,
      "provenance": [],
      "include_colab_link": true
    },
    "kernelspec": {
      "display_name": "Python 3",
      "name": "python3"
    }
  },
  "nbformat": 4,
  "nbformat_minor": 0
}